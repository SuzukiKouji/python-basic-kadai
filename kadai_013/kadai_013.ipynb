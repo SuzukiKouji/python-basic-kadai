{
  "cells": [
    {
      "cell_type": "code",
      "source": [
        "# 消費税を加えた金額を計算する関数\n",
        "def calculate_total_price(price, tax_rate):\n",
        "    # 税率をパーセンテージから小数に変換して計算\n",
        "    tax_amount = price * (tax_rate / 100)\n",
        "    total_price = price + tax_amount\n",
        "    return total_price\n",
        "\n",
        "# 関数の呼び出し\n",
        "item_price = 110\n",
        "tax_percentage = 10\n",
        "\n",
        "# 計算結果の表示\n",
        "result = calculate_total_price(item_price, tax_percentage)\n",
        "print(\"消費税込みの金額は:\", result)"
      ],
      "metadata": {
        "id": "1Ss0inSw3Yc1"
      },
      "execution_count": null,
      "outputs": []
    }
  ],
  "metadata": {
    "colab": {
      "name": "Colab へようこそ",
      "toc_visible": true,
      "provenance": []
    },
    "kernelspec": {
      "display_name": "Python 3",
      "name": "python3"
    }
  },
  "nbformat": 4,
  "nbformat_minor": 0
}