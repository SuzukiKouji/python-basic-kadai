{
  "cells": [
    {
      "cell_type": "code",
      "source": [
        "# Humanクラスの定義\n",
        "class Human:\n",
        "    def __init__(self, name, age):\n",
        "        self.name = name  # 名前の属性\n",
        "        self.age = age    # 年齢の属性\n",
        "\n",
        "    def check_adult(self):\n",
        "        if self.age >= 20:\n",
        "            print(f\"{self.name}（{self.age}歳）は大人です。\")\n",
        "        else:\n",
        "            print(f\"{self.name}（{self.age}歳）は大人ではありません。\")\n",
        "\n",
        "# Humanインスタンスを複数作成してリストに追加\n",
        "human_list = [\n",
        "    Human(\"太郎\", 25),\n",
        "    Human(\"花子\", 18),\n",
        "    Human(\"健一\", 30),\n",
        "    Human(\"美咲\", 16)\n",
        "]\n",
        "\n",
        "# リストの要素数分だけcheck_adultメソッドを呼び出す\n",
        "for human in human_list:\n",
        "    human.check_adult()"
      ],
      "metadata": {
        "id": "MI_xLWA-ZT0_"
      },
      "execution_count": null,
      "outputs": []
    }
  ],
  "metadata": {
    "colab": {
      "name": "Colab へようこそ",
      "toc_visible": true,
      "provenance": []
    },
    "kernelspec": {
      "display_name": "Python 3",
      "name": "python3"
    }
  },
  "nbformat": 4,
  "nbformat_minor": 0
}