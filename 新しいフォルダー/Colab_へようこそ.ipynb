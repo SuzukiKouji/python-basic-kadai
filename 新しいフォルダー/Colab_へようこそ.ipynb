{
  "cells": [
    {
      "cell_type": "code",
      "execution_count": null,
      "metadata": {},
      "outputs": [],
      "source": [
        "# 台形の寸法（単位：cm）\n",
        "top = 10\n",
        "bottom = 20\n",
        "height = 5\n",
        "\n",
        "# 台形の面積を計算（公式：（上辺＋下辺）× 高さ ÷ 2）\n",
        "area = (top + bottom) * height / 2\n",
        "\n",
        "# 結果を「◯◯cm²」の形式で出力\n",
        "print(str(area) + \"cm²\")"
      ]
    }
  ],
  "metadata": {
    "colab": {
      "name": "Colab へようこそ",
      "provenance": [],
      "toc_visible": true
    },
    "kernelspec": {
      "display_name": "Python 3",
      "name": "python3"
    }
  },
  "nbformat": 4,
  "nbformat_minor": 0
}
